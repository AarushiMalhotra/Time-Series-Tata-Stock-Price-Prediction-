{
 "cells": [
  {
   "cell_type": "code",
   "execution_count": 1,
   "metadata": {},
   "outputs": [
    {
     "name": "stderr",
     "output_type": "stream",
     "text": [
      "Using TensorFlow backend.\n"
     ]
    }
   ],
   "source": [
    "import numpy as np\n",
    "import pandas as pd\n",
    "from subprocess import check_output\n",
    "from keras.layers.core import Dense,Activation,Dropout\n",
    "from keras.layers.recurrent import LSTM\n",
    "from keras.models import Sequential\n",
    "from sklearn.model_selection import train_test_split\n",
    "import time\n",
    "from sklearn.preprocessing import MinMaxScaler\n",
    "import matplotlib.pyplot as plt\n",
    "%matplotlib inline\n",
    "from numpy import newaxis\n"
   ]
  },
  {
   "cell_type": "code",
   "execution_count": 4,
   "metadata": {},
   "outputs": [
    {
     "data": {
      "text/html": [
       "<div>\n",
       "<style scoped>\n",
       "    .dataframe tbody tr th:only-of-type {\n",
       "        vertical-align: middle;\n",
       "    }\n",
       "\n",
       "    .dataframe tbody tr th {\n",
       "        vertical-align: top;\n",
       "    }\n",
       "\n",
       "    .dataframe thead th {\n",
       "        text-align: right;\n",
       "    }\n",
       "</style>\n",
       "<table border=\"1\" class=\"dataframe\">\n",
       "  <thead>\n",
       "    <tr style=\"text-align: right;\">\n",
       "      <th></th>\n",
       "      <th>Date</th>\n",
       "      <th>Open</th>\n",
       "      <th>High</th>\n",
       "      <th>Low</th>\n",
       "      <th>Close</th>\n",
       "      <th>Adj Close</th>\n",
       "      <th>Volume</th>\n",
       "    </tr>\n",
       "  </thead>\n",
       "  <tbody>\n",
       "    <tr>\n",
       "      <th>0</th>\n",
       "      <td>1/7/2018</td>\n",
       "      <td>433.700012</td>\n",
       "      <td>443.549988</td>\n",
       "      <td>431.500000</td>\n",
       "      <td>436.149994</td>\n",
       "      <td>436.149994</td>\n",
       "      <td>1836374</td>\n",
       "    </tr>\n",
       "    <tr>\n",
       "      <th>1</th>\n",
       "      <td>1/14/2018</td>\n",
       "      <td>438.700012</td>\n",
       "      <td>439.899994</td>\n",
       "      <td>410.799988</td>\n",
       "      <td>418.950012</td>\n",
       "      <td>418.950012</td>\n",
       "      <td>4052903</td>\n",
       "    </tr>\n",
       "    <tr>\n",
       "      <th>2</th>\n",
       "      <td>1/21/2018</td>\n",
       "      <td>419.000000</td>\n",
       "      <td>424.200012</td>\n",
       "      <td>399.000000</td>\n",
       "      <td>400.200012</td>\n",
       "      <td>400.200012</td>\n",
       "      <td>1846832</td>\n",
       "    </tr>\n",
       "    <tr>\n",
       "      <th>3</th>\n",
       "      <td>1/28/2018</td>\n",
       "      <td>401.149994</td>\n",
       "      <td>406.000000</td>\n",
       "      <td>381.649994</td>\n",
       "      <td>384.049988</td>\n",
       "      <td>384.049988</td>\n",
       "      <td>2292777</td>\n",
       "    </tr>\n",
       "    <tr>\n",
       "      <th>4</th>\n",
       "      <td>2/4/2018</td>\n",
       "      <td>381.649994</td>\n",
       "      <td>398.399994</td>\n",
       "      <td>357.000000</td>\n",
       "      <td>369.200012</td>\n",
       "      <td>369.200012</td>\n",
       "      <td>6279666</td>\n",
       "    </tr>\n",
       "  </tbody>\n",
       "</table>\n",
       "</div>"
      ],
      "text/plain": [
       "        Date        Open        High         Low       Close   Adj Close  \\\n",
       "0   1/7/2018  433.700012  443.549988  431.500000  436.149994  436.149994   \n",
       "1  1/14/2018  438.700012  439.899994  410.799988  418.950012  418.950012   \n",
       "2  1/21/2018  419.000000  424.200012  399.000000  400.200012  400.200012   \n",
       "3  1/28/2018  401.149994  406.000000  381.649994  384.049988  384.049988   \n",
       "4   2/4/2018  381.649994  398.399994  357.000000  369.200012  369.200012   \n",
       "\n",
       "    Volume  \n",
       "0  1836374  \n",
       "1  4052903  \n",
       "2  1846832  \n",
       "3  2292777  \n",
       "4  6279666  "
      ]
     },
     "execution_count": 4,
     "metadata": {},
     "output_type": "execute_result"
    }
   ],
   "source": [
    "prices_dataset = pd.read_csv(\"E:/TATAMOTORS.BO (1).csv\",header=0)\n",
    "prices_dataset.head()"
   ]
  },
  {
   "cell_type": "code",
   "execution_count": 5,
   "metadata": {},
   "outputs": [
    {
     "data": {
      "text/plain": [
       "(54, 7)"
      ]
     },
     "execution_count": 5,
     "metadata": {},
     "output_type": "execute_result"
    }
   ],
   "source": [
    "prices_dataset.shape"
   ]
  },
  {
   "cell_type": "code",
   "execution_count": 8,
   "metadata": {},
   "outputs": [
    {
     "data": {
      "text/plain": [
       "Index(['Date', 'Open', 'High', 'Low', 'Close', 'Adj Close', 'Volume'], dtype='object')"
      ]
     },
     "execution_count": 8,
     "metadata": {},
     "output_type": "execute_result"
    }
   ],
   "source": [
    "prices_dataset.columns"
   ]
  },
  {
   "cell_type": "code",
   "execution_count": 9,
   "metadata": {},
   "outputs": [],
   "source": [
    "yahoo_stock_prices = prices_dataset.Close.values.astype('float32')\n"
   ]
  },
  {
   "cell_type": "code",
   "execution_count": 12,
   "metadata": {},
   "outputs": [
    {
     "data": {
      "text/plain": [
       "(54,)"
      ]
     },
     "execution_count": 12,
     "metadata": {},
     "output_type": "execute_result"
    }
   ],
   "source": [
    "yahoo_stock_prices.shape"
   ]
  },
  {
   "cell_type": "code",
   "execution_count": 15,
   "metadata": {},
   "outputs": [],
   "source": [
    "yahoo_stock_prices = yahoo_stock_prices.reshape(54,1)"
   ]
  },
  {
   "cell_type": "code",
   "execution_count": 16,
   "metadata": {},
   "outputs": [
    {
     "data": {
      "text/plain": [
       "(54, 1)"
      ]
     },
     "execution_count": 16,
     "metadata": {},
     "output_type": "execute_result"
    }
   ],
   "source": [
    "yahoo_stock_prices.shape"
   ]
  },
  {
   "cell_type": "code",
   "execution_count": 17,
   "metadata": {},
   "outputs": [
    {
     "data": {
      "image/png": "[encoded data removed]",
      "text/plain": [
       "<Figure size 432x288 with 1 Axes>"
      ]
     },
     "metadata": {
      "needs_background": "light"
     },
     "output_type": "display_data"
    }
   ],
   "source": [
    "plt.plot(yahoo_stock_prices)\n",
    "plt.show()"
   ]
  },
  {
   "cell_type": "code",
   "execution_count": 18,
   "metadata": {},
   "outputs": [],
   "source": [
    "# scaling values\n",
    "scaler = MinMaxScaler(feature_range=(0,1))\n",
    "yahoo_stock_prices = scaler.fit_transform(yahoo_stock_prices)"
   ]
  },
  {
   "cell_type": "code",
   "execution_count": 22,
   "metadata": {},
   "outputs": [
    {
     "data": {
      "text/plain": [
       "array([[1.        ],\n",
       "       [0.9371575 ],\n",
       "       [0.86865187],\n",
       "       [0.80964553],\n",
       "       [0.7553891 ],\n",
       "       [0.7603215 ],\n",
       "       [0.7234198 ],\n",
       "       [0.7614176 ],\n",
       "       [0.65491414],\n",
       "       [0.64906836],\n",
       "       [0.61618567],\n",
       "       [0.60284984],\n",
       "       [0.7358422 ],\n",
       "       [0.70953596],\n",
       "       [0.6350018 ],\n",
       "       [0.6370113 ],\n",
       "       [0.6276946 ],\n",
       "       [0.6149068 ],\n",
       "       [0.5217391 ],\n",
       "       [0.48136652],\n",
       "       [0.455791  ],\n",
       "       [0.5392765 ],\n",
       "       [0.5142492 ],\n",
       "       [0.5323347 ],\n",
       "       [0.39039087],\n",
       "       [0.39715016],\n",
       "       [0.3715747 ],\n",
       "       [0.3322981 ],\n",
       "       [0.38454515],\n",
       "       [0.3518451 ],\n",
       "       [0.32078916],\n",
       "       [0.34673   ],\n",
       "       [0.34033614],\n",
       "       [0.38235295],\n",
       "       [0.4203508 ],\n",
       "       [0.37997812],\n",
       "       [0.32060647],\n",
       "       [0.22287178],\n",
       "       [0.1976617 ],\n",
       "       [0.07654363],\n",
       "       [0.04512244],\n",
       "       [0.02338332],\n",
       "       [0.10065764],\n",
       "       [0.12038726],\n",
       "       [0.06192911],\n",
       "       [0.07234198],\n",
       "       [0.03470951],\n",
       "       [0.        ],\n",
       "       [0.01625866],\n",
       "       [0.04914141],\n",
       "       [0.03050786],\n",
       "       [0.03032517],\n",
       "       [0.06521744],\n",
       "       [0.06521744]], dtype=float32)"
      ]
     },
     "execution_count": 22,
     "metadata": {},
     "output_type": "execute_result"
    }
   ],
   "source": [
    "yahoo_stock_prices  # prices of stock is scaled down lying between 0 and 1"
   ]
  },
  {
   "cell_type": "code",
   "execution_count": 23,
   "metadata": {},
   "outputs": [
    {
     "data": {
      "text/plain": [
       "54"
      ]
     },
     "execution_count": 23,
     "metadata": {},
     "output_type": "execute_result"
    }
   ],
   "source": [
    "len(yahoo_stock_prices)"
   ]
  },
  {
   "cell_type": "code",
   "execution_count": 24,
   "metadata": {},
   "outputs": [],
   "source": [
    "train_size = int(len(yahoo_stock_prices) * 0.80)\n",
    "test_size = len(yahoo_stock_prices) - train_size\n",
    "train , test = yahoo_stock_prices[0:train_size,:] , yahoo_stock_prices[train_size:len(yahoo_stock_prices),:]"
   ]
  },
  {
   "cell_type": "code",
   "execution_count": 25,
   "metadata": {},
   "outputs": [
    {
     "name": "stdout",
     "output_type": "stream",
     "text": [
      "43 11\n"
     ]
    }
   ],
   "source": [
    "print(len(train),len(test))"
   ]
  },
  {
   "cell_type": "code",
   "execution_count": 27,
   "metadata": {},
   "outputs": [],
   "source": [
    "# converting an array of values into a dataset matrix\n",
    "def create_dataset(dataset,look_back=1):\n",
    "    dataX , dataY = [] , []\n",
    "    for i in range(len(dataset)-look_back-1):\n",
    "        a = dataset[i:(i+look_back),0]\n",
    "        dataX.append(a)\n",
    "        dataY.append(dataset[i+look_back,0])\n",
    "        \n",
    "    return np.array(dataX) , np.array(dataY)"
   ]
  },
  {
   "cell_type": "code",
   "execution_count": 28,
   "metadata": {},
   "outputs": [],
   "source": [
    "# reshaping into X=t and Y=t+1\n",
    "look_back = 1\n",
    "trainX , trainY = create_dataset(train,look_back)\n",
    "testX , testY = create_dataset(test,look_back)"
   ]
  },
  {
   "cell_type": "code",
   "execution_count": 29,
   "metadata": {},
   "outputs": [
    {
     "data": {
      "text/plain": [
       "(41, 1)"
      ]
     },
     "execution_count": 29,
     "metadata": {},
     "output_type": "execute_result"
    }
   ],
   "source": [
    "trainX.shape"
   ]
  },
  {
   "cell_type": "code",
   "execution_count": 30,
   "metadata": {},
   "outputs": [
    {
     "data": {
      "text/plain": [
       "(9, 1)"
      ]
     },
     "execution_count": 30,
     "metadata": {},
     "output_type": "execute_result"
    }
   ],
   "source": [
    "testX.shape"
   ]
  },
  {
   "cell_type": "code",
   "execution_count": 34,
   "metadata": {},
   "outputs": [],
   "source": [
    "trainX = np.reshape(trainX,(trainX.shape[0] , 1 , trainX.shape[1]))\n",
    "testX = np.reshape(testX , (testX.shape[0] ,1 , testX.shape[1]))"
   ]
  },
  {
   "cell_type": "code",
   "execution_count": 35,
   "metadata": {},
   "outputs": [
    {
     "name": "stdout",
     "output_type": "stream",
     "text": [
      "(41, 1, 1)\n",
      "(9, 1, 1)\n"
     ]
    }
   ],
   "source": [
    "print(trainX.shape)\n",
    "print(testX.shape)"
   ]
  },
  {
   "cell_type": "code",
   "execution_count": 36,
   "metadata": {},
   "outputs": [
    {
     "name": "stderr",
     "output_type": "stream",
     "text": [
      "c:\\users\\dell\\appdata\\local\\programs\\python\\python36\\lib\\site-packages\\ipykernel_launcher.py:3: UserWarning: The `input_dim` and `input_length` arguments in recurrent layers are deprecated. Use `input_shape` instead.\n",
      "  This is separate from the ipykernel package so we can avoid doing imports until\n",
      "c:\\users\\dell\\appdata\\local\\programs\\python\\python36\\lib\\site-packages\\ipykernel_launcher.py:3: UserWarning: Update your `LSTM` call to the Keras 2 API: `LSTM(return_sequences=True, input_shape=(None, 1), units=50)`\n",
      "  This is separate from the ipykernel package so we can avoid doing imports until\n"
     ]
    },
    {
     "name": "stdout",
     "output_type": "stream",
     "text": [
      "compilation time :  0.09889578819274902\n"
     ]
    },
    {
     "name": "stderr",
     "output_type": "stream",
     "text": [
      "c:\\users\\dell\\appdata\\local\\programs\\python\\python36\\lib\\site-packages\\ipykernel_launcher.py:9: UserWarning: Update your `Dense` call to the Keras 2 API: `Dense(units=1)`\n",
      "  if __name__ == '__main__':\n"
     ]
    }
   ],
   "source": [
    "# building Model\n",
    "model = Sequential()\n",
    "model.add(LSTM(input_dim=1,output_dim=50,return_sequences=True))\n",
    "model.add(Dropout(0.2))\n",
    "\n",
    "model.add(LSTM(100,return_sequences=False))\n",
    "model.add(Dropout(0.2))\n",
    "\n",
    "model.add(Dense(output_dim=1))\n",
    "model.add(Activation('linear'))\n",
    "\n",
    "start = time.time()\n",
    "model.compile(loss='mse',optimizer='rmsprop')\n",
    "print('compilation time : ' , time.time() - start )"
   ]
  },
  {
   "cell_type": "code",
   "execution_count": 37,
   "metadata": {},
   "outputs": [
    {
     "name": "stderr",
     "output_type": "stream",
     "text": [
      "c:\\users\\dell\\appdata\\local\\programs\\python\\python36\\lib\\site-packages\\ipykernel_launcher.py:5: UserWarning: The `nb_epoch` argument in `fit` has been renamed `epochs`.\n",
      "  \"\"\"\n"
     ]
    },
    {
     "name": "stdout",
     "output_type": "stream",
     "text": [
      "Train on 38 samples, validate on 3 samples\n",
      "Epoch 1/10\n",
      "38/38 [==============================] - 7s 177ms/step - loss: 0.3193 - val_loss: 0.0015\n",
      "Epoch 2/10\n",
      "38/38 [==============================] - 0s 421us/step - loss: 0.2957 - val_loss: 8.7734e-04\n",
      "Epoch 3/10\n",
      "38/38 [==============================] - 0s 34us/step - loss: 0.2803 - val_loss: 5.1778e-04\n",
      "Epoch 4/10\n",
      "38/38 [==============================] - 0s 487us/step - loss: 0.2653 - val_loss: 3.7154e-04\n",
      "Epoch 5/10\n",
      "38/38 [==============================] - 0s 395us/step - loss: 0.2508 - val_loss: 4.1158e-04\n",
      "Epoch 6/10\n",
      "38/38 [==============================] - 0s 421us/step - loss: 0.2394 - val_loss: 6.2586e-04\n",
      "Epoch 7/10\n",
      "38/38 [==============================] - 0s 447us/step - loss: 0.2282 - val_loss: 0.0010\n",
      "Epoch 8/10\n",
      "38/38 [==============================] - 0s 421us/step - loss: 0.2154 - val_loss: 0.0016\n",
      "Epoch 9/10\n",
      "38/38 [==============================] - 0s 327us/step - loss: 0.2017 - val_loss: 0.0023\n",
      "Epoch 10/10\n",
      "38/38 [==============================] - 0s 678us/step - loss: 0.1906 - val_loss: 0.0032\n"
     ]
    },
    {
     "data": {
      "text/plain": [
       "<keras.callbacks.History at 0x1d5e186a470>"
      ]
     },
     "execution_count": 37,
     "metadata": {},
     "output_type": "execute_result"
    }
   ],
   "source": [
    "model.fit(trainX,\n",
    "         trainY,\n",
    "         batch_size = 128,\n",
    "         nb_epoch = 10,\n",
    "         validation_split = 0.05)"
   ]
  },
  {
   "cell_type": "code",
   "execution_count": null,
   "metadata": {},
   "outputs": [],
   "source": [
    "def plot_results_multiple(predicted_data, true_data,length):\n",
    "    plt.plot(scaler.inverse_transform(true_data.reshape(-1, 1))[length:])\n",
    "    plt.plot(scaler.inverse_transform(np.array(predicted_data).reshape(-1, 1))[length:])\n",
    "    plt.show()\n",
    "    \n",
    "#predict lenght consecutive values from a real one\n",
    "def predict_sequences_multiple(model, firstValue,length):\n",
    "    prediction_seqs = []\n",
    "    curr_frame = firstValue\n",
    "    \n",
    "    for i in range(length): \n",
    "        predicted = []        \n",
    "        \n",
    "        print(model.predict(curr_frame[newaxis,:,:]))\n",
    "        predicted.append(model.predict(curr_frame[newaxis,:,:])[0,0])\n",
    "        \n",
    "        curr_frame = curr_frame[0:]\n",
    "        curr_frame = np.insert(curr_frame[0:], i+1, predicted[-1], axis=0)\n",
    "        \n",
    "        prediction_seqs.append(predicted[-1])\n",
    "        \n",
    "    return prediction_seqs\n",
    "\n",
    "predict_length=5\n",
    "predictions = predict_sequences_multiple(model, testX[0], predict_length)\n",
    "print(scaler.inverse_transform(np.array(predictions).reshape(-1, 1)))\n",
    "plot_results_multiple(predictions, testY, predict_length)\n"
   ]
  },
  {
   "cell_type": "code",
   "execution_count": 38,
   "metadata": {},
   "outputs": [
    {
     "name": "stdout",
     "output_type": "stream",
     "text": [
      "[[0.10426259]]\n",
      "[[0.18301937]]\n",
      "[[0.25750676]]\n",
      "[[0.32985932]]\n",
      "[[0.40099323]]\n",
      "[[190.98666]\n",
      " [212.5424 ]\n",
      " [232.9296 ]\n",
      " [252.7325 ]\n",
      " [272.20184]]\n"
     ]
    },
    {
     "data": {
      "image/png": "[encoded data removed]",
      "text/plain": [
       "<Figure size 432x288 with 1 Axes>"
      ]
     },
     "metadata": {
      "needs_background": "light"
     },
     "output_type": "display_data"
    }
   ],
   "source": [
    "def plot_results_multiple(predicted_data , true_data , length):\n",
    "    plt.plot(scaler.inverse_transform(true_data.reshape(-1,1))[length:])\n",
    "    plt.plot(scaler.inverse_transform(np.array(predicted_data).reshape(-1,1))[length:])\n",
    "    plt.show()\n",
    "    \n",
    "#predict lenght consecutive values from a real one\n",
    "def predict_sequences_multiple(model, firstValue,length):\n",
    "    prediction_seqs = []\n",
    "    curr_frame = firstValue\n",
    "    \n",
    "    for i in range(length): \n",
    "        predicted = []        \n",
    "        \n",
    "        print(model.predict(curr_frame[newaxis,:,:]))\n",
    "        predicted.append(model.predict(curr_frame[newaxis,:,:])[0,0])\n",
    "        \n",
    "        curr_frame = curr_frame[0:]\n",
    "        curr_frame = np.insert(curr_frame[0:], i+1, predicted[-1], axis=0)\n",
    "        \n",
    "        prediction_seqs.append(predicted[-1])\n",
    "        \n",
    "    return prediction_seqs\n",
    "\n",
    "\n",
    "predict_length=5\n",
    "predictions = predict_sequences_multiple(model, testX[0], predict_length)\n",
    "print(scaler.inverse_transform(np.array(predictions).reshape(-1, 1)))\n",
    "plot_results_multiple(predictions, testY, predict_length)\n"
   ]
  },
  {
   "cell_type": "code",
   "execution_count": null,
   "metadata": {},
   "outputs": [],
   "source": []
  },
  {
   "cell_type": "code",
   "execution_count": null,
   "metadata": {},
   "outputs": [],
   "source": []
  }
 ],
 "metadata": {
  "kernelspec": {
   "display_name": "Python 3",
   "language": "python",
   "name": "python3"
  },
  "language_info": {
   "codemirror_mode": {
    "name": "ipython",
    "version": 3
   },
   "file_extension": ".py",
   "mimetype": "text/x-python",
   "name": "python",
   "nbconvert_exporter": "python",
   "pygments_lexer": "ipython3",
   "version": "3.6.7"
  }
 },
 "nbformat": 4,
 "nbformat_minor": 2
}
